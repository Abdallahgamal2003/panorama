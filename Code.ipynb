{
 "cells": [
  {
   "cell_type": "code",
   "execution_count": 1,
   "metadata": {},
   "outputs": [],
   "source": [
    "import numpy as np\n",
    "import cv2"
   ]
  },
  {
   "cell_type": "code",
   "execution_count": 2,
   "metadata": {},
   "outputs": [],
   "source": [
    "# Define a function to arrange matching pairs of keypoints between two images\n",
    "def arrangePairs(goodMatches, kpsA, kpsB):\n",
    "    setA = []\n",
    "    setB = []\n",
    "    for match in goodMatches:\n",
    "        setA.append(kpsA[match.queryIdx].pt)\n",
    "        setB.append(kpsB[match.trainIdx].pt)\n",
    "    return (setA, setB)\n"
   ]
  },
  {
   "cell_type": "code",
   "execution_count": 3,
   "metadata": {},
   "outputs": [],
   "source": [
    "# Define a function to apply transformation to a set of points\n",
    "def applyTransformation(T, set):\n",
    "    transformedSet = []\n",
    "    for x, y in set:\n",
    "        x_new = T[0][0] * x + T[0][1] * y + T[0][2]\n",
    "        y_new = T[1][0] * x + T[1][1] * y + T[1][2]\n",
    "        transformedSet.append([x_new, y_new])\n",
    "    return transformedSet\n"
   ]
  },
  {
   "cell_type": "code",
   "execution_count": 4,
   "metadata": {},
   "outputs": [],
   "source": [
    "# Define a function to calculate the number of inliers after transformation\n",
    "def calculateInliers(transformation, setA, setB, th=10):\n",
    "    inliers = 0\n",
    "    for i in range(len(setA)):\n",
    "        x, y = setA[i]\n",
    "        x_new = (\n",
    "            transformation[0][0] * x + transformation[0][1] * y + transformation[0][2]\n",
    "        )\n",
    "        y_new = (\n",
    "            transformation[1][0] * x + transformation[1][1] * y + transformation[1][2]\n",
    "        )\n",
    "        x_b, y_b = setB[i]\n",
    "        distance = np.sqrt((x_new - x_b) ** 2 + (y_new - y_b) ** 2)\n",
    "        if distance < th:\n",
    "            inliers += 1\n",
    "    return inliers\n",
    "\n"
   ]
  },
  {
   "cell_type": "code",
   "execution_count": 5,
   "metadata": {},
   "outputs": [],
   "source": [
    "# Define a function to warp the second image and merge it with the first image using homography\n",
    "def warpTwoImages(img1, img2, H):\n",
    "    h1, w1 = img1.shape[:2]\n",
    "    h2, w2 = img2.shape[:2]\n",
    "    pts1 = np.float32([[0, 0], [0, h1], [w1, h1], [w1, 0]]).reshape(-1, 1, 2)\n",
    "    pts2 = np.float32([[0, 0], [0, h2], [w2, h2], [w2, 0]]).reshape(-1, 1, 2)\n",
    "    pts2_ = cv2.perspectiveTransform(pts2, H)\n",
    "    pts = np.concatenate((pts1, pts2_), axis=0)\n",
    "    [xmin, ymin] = np.int32(pts.min(axis=0).ravel() - 0.5)\n",
    "    [xmax, ymax] = np.int32(pts.max(axis=0).ravel() + 0.5)\n",
    "    t = [-xmin, -ymin]\n",
    "    Ht = np.array([[1, 0, t[0]], [0, 1, t[1]], [0, 0, 1]])  # translate\n",
    "\n",
    "    result = cv2.warpPerspective(img2, Ht.dot(H), (xmax - xmin, ymax - ymin))\n",
    "    result[t[1] : h1 + t[1], t[0] : w1 + t[0]] = img1\n",
    "    return result\n"
   ]
  },
  {
   "cell_type": "code",
   "execution_count": 6,
   "metadata": {},
   "outputs": [],
   "source": [
    "\n",
    "# Define a function to estimate the transformation between two sets of points\n",
    "def estimateTransformation(setA, setB):\n",
    "    maxInliers = 0\n",
    "    maxInlierTransformation = []\n",
    "\n",
    "    for i in range(50):\n",
    "        # Select random points from setA and setB\n",
    "        random_indices = np.random.choice(len(setA), 10)\n",
    "        temp_setA = [setA[i] for i in random_indices]\n",
    "        temp_setB = [setB[i] for i in random_indices]\n",
    "\n",
    "        M = []\n",
    "        # Create the transformation matrix\n",
    "        for x, y in temp_setA:\n",
    "            row1 = [x, y, 0, 0, 1, 0]\n",
    "            row2 = [0, 0, x, y, 0, 1]\n",
    "            M.extend([row1, row2])\n",
    "\n",
    "        M = np.tile(M, (1, 1))\n",
    "\n",
    "        A = M.copy()\n",
    "        B = []\n",
    "        for x, y in temp_setB:\n",
    "            B.append(x)\n",
    "            B.append(y)\n",
    "\n",
    "        # Calculate the coefficients using the normal equation\n",
    "        A_t = np.transpose(A)\n",
    "        A_t_A = np.dot(A_t, A)\n",
    "        A_t_b = np.dot(A_t, B)\n",
    "        coefficients = np.dot(np.linalg.inv(A_t_A), A_t_b)\n",
    "        transformation = np.array(\n",
    "            [\n",
    "                [coefficients[0], coefficients[1], coefficients[4]],\n",
    "                [coefficients[2], coefficients[3], coefficients[5]],\n",
    "            ]\n",
    "        )\n",
    "        inliers = calculateInliers(transformation, setA, setB)\n",
    "        if inliers > maxInliers:\n",
    "            maxInliers = inliers\n",
    "            maxInlierTransformation = transformation\n",
    "\n",
    "    maxInlierTransformation = np.vstack([maxInlierTransformation, [0, 0, 1]])\n",
    "    return maxInlierTransformation\n"
   ]
  },
  {
   "cell_type": "code",
   "execution_count": 7,
   "metadata": {},
   "outputs": [],
   "source": [
    "# Read the images and convert them to grayscale\n",
    "imageA = cv2.imread(\"./ImageA.jpg\")\n",
    "imageB = cv2.imread(\"./ImageB.jpg\")\n",
    "imageA_gray = cv2.cvtColor(imageA, cv2.COLOR_BGR2GRAY)\n",
    "imageB_gray = cv2.cvtColor(imageB, cv2.COLOR_BGR2GRAY)"
   ]
  },
  {
   "cell_type": "code",
   "execution_count": 8,
   "metadata": {},
   "outputs": [
    {
     "name": "stderr",
     "output_type": "stream",
     "text": [
      "[ WARN:0@0.072] global shadow_sift.hpp:13 SIFT_create DEPRECATED: cv.xfeatures2d.SIFT_create() is deprecated due SIFT tranfer to the main repository. https://github.com/opencv/opencv/issues/16736\n"
     ]
    }
   ],
   "source": [
    "# Extract features using SIFT\n",
    "descriptor = cv2.xfeatures2d.SIFT_create()\n",
    "(kpsA, descriptorsA) = descriptor.detectAndCompute(imageA_gray, None)\n",
    "(kpsB, descriptorsB) = descriptor.detectAndCompute(imageB_gray, None)"
   ]
  },
  {
   "cell_type": "code",
   "execution_count": 9,
   "metadata": {},
   "outputs": [],
   "source": [
    "# Match features between images using BFMatcher\n",
    "bf = cv2.BFMatcher()\n",
    "matches = bf.knnMatch(descriptorsA, descriptorsB, k=2)\n",
    "\n",
    "goodMatches = []\n",
    "for m, n in matches:\n",
    "    if m.distance / n.distance < 0.8:\n",
    "        goodMatches.append(m)\n",
    "\n",
    "setA, setB = arrangePairs(goodMatches, kpsA, kpsB)\n",
    "matched_image = cv2.drawMatches(\n",
    "    imageA,\n",
    "    kpsA,\n",
    "    imageB,\n",
    "    kpsB,\n",
    "    goodMatches,\n",
    "    None,\n",
    "    flags=cv2.DrawMatchesFlags_NOT_DRAW_SINGLE_POINTS,\n",
    ")\n",
    "cv2.imshow(\"Matched Image\", matched_image)"
   ]
  },
  {
   "cell_type": "code",
   "execution_count": 10,
   "metadata": {},
   "outputs": [],
   "source": [
    "# Estimate the homography matrix\n",
    "homography, mask = cv2.findHomography(np.array(setB), np.array(setA), cv2.RANSAC, 5.0)\n",
    "blended_image = warpTwoImages(imageA, imageB, homography)\n",
    "cv2.imshow(\"Blended Image\", blended_image)\n",
    "\n",
    "# Estimate the transformation between the sets of points\n",
    "transformation = estimateTransformation(setB, setA)\n",
    "\n",
    "# Warp the first image based on the estimated transformation\n",
    "imageA_transformed = imageA.copy()\n",
    "cv2.warpPerspective(\n",
    "    imageA,\n",
    "    transformation,\n",
    "    (imageA.shape[1], imageA.shape[0]),\n",
    "    imageA_transformed,\n",
    "    cv2.INTER_LINEAR,\n",
    "    cv2.BORDER_CONSTANT,\n",
    "    0,\n",
    ")\n",
    "\n",
    "# Merge the two images using the estimated transformation\n",
    "blended_image = warpTwoImages(imageA, imageB, transformation)\n",
    "cv2.imshow(\"Blended Image\", blended_image)\n",
    "\n",
    "# Wait for a key press and close all OpenCV windows\n",
    "cv2.waitKey(0)\n",
    "cv2.destroyAllWindows()"
   ]
  }
 ],
 "metadata": {
  "kernelspec": {
   "display_name": "Python 3",
   "language": "python",
   "name": "python3"
  },
  "language_info": {
   "codemirror_mode": {
    "name": "ipython",
    "version": 3
   },
   "file_extension": ".py",
   "mimetype": "text/x-python",
   "name": "python",
   "nbconvert_exporter": "python",
   "pygments_lexer": "ipython3",
   "version": "3.11.8"
  }
 },
 "nbformat": 4,
 "nbformat_minor": 2
}
